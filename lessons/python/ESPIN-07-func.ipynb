{
 "cells": [
  {
   "cell_type": "markdown",
   "metadata": {},
   "source": [
    "<a href=\"https://csdms.colorado.edu/wiki/ESPIn2020\"><img style=\"float: center; width: 75%\" src=\"../../media/ESPIn.png\"></a>"
   ]
  },
  {
   "cell_type": "markdown",
   "metadata": {},
   "source": [
    "# Programming with Python\n",
    "\n",
    "## Creating Functions\n",
    "\n",
    "### minutes: 30\n",
    "\n",
    "> ## Learning Objectives\n",
    ">\n",
    "> *   Define a function that takes parameters.\n",
    "> *   Return a value from a function.\n",
    "> *   Test and debug a function.\n",
    "> *   Set default values for function parameters.\n",
    "> *   Explain why we should divide programs into small, single-purpose functions.\n",
    "\n",
    "At this point,\n",
    "we've written code to draw some interesting features in our inflammation data,\n",
    "loop over all our data files to quickly draw these plots for each of them,\n",
    "and have Python make decisions based on what it sees in our data.\n",
    "But, our code is getting pretty long and complicated;\n",
    "what if we had thousands of datasets,\n",
    "and didn't want to generate a figure for every single one?\n",
    "Commenting out the figure-drawing code is a nuisance.\n",
    "Also, what if we want to use that code again,\n",
    "on a different dataset or at a different point in our program?\n",
    "Cutting and pasting it is going to make our code get very long and very repetitive,\n",
    "very quickly.\n",
    "We'd like a way to package our code so that it is easier to reuse,\n",
    "and Python provides for this by letting us define things called 'functions' -\n",
    "a shorthand way of re-executing longer pieces of code."
   ]
  },
  {
   "cell_type": "markdown",
   "metadata": {},
   "source": [
    "Import required packages"
   ]
  },
  {
   "cell_type": "code",
   "execution_count": 8,
   "metadata": {},
   "outputs": [],
   "source": [
    "import numpy \n",
    "import matplotlib.pyplot"
   ]
  },
  {
   "cell_type": "markdown",
   "metadata": {},
   "source": [
    "Let's start by defining a function `fahr_to_kelvin` that converts temperatures from Fahrenheit to Kelvin:"
   ]
  },
  {
   "cell_type": "code",
   "execution_count": 9,
   "metadata": {},
   "outputs": [],
   "source": [
    "def fahr_to_kelvin(temp):\n",
    "    return ((temp - 32) * (5/9)) + 273.15"
   ]
  },
  {
   "cell_type": "markdown",
   "metadata": {},
   "source": [
    "The function definition opens with the word `def`,\n",
    "which is followed by the name of the function\n",
    "and a parenthesized list of parameter names.\n",
    "The [body](reference.html#function-body) of the function --- the\n",
    "statements that are executed when it runs --- is indented below the definition line.\n",
    "\n",
    "When we call the function,\n",
    "the values we pass to it are assigned to those variables\n",
    "so that we can use them inside the function.\n",
    "Inside the function,\n",
    "we use a [return statement](reference.html#return-statement) to send a result back to whoever asked for it.\n",
    "\n",
    "Let's try running our function.\n",
    "Calling our own function is no different from calling any other function:"
   ]
  },
  {
   "cell_type": "code",
   "execution_count": 10,
   "metadata": {},
   "outputs": [
    {
     "name": "stdout",
     "output_type": "stream",
     "text": [
      "freezing point of water: 273.15\n",
      "boiling point of water: 373.15\n"
     ]
    }
   ],
   "source": [
    "print('freezing point of water:', fahr_to_kelvin(32))\n",
    "print('boiling point of water:', fahr_to_kelvin(212))"
   ]
  },
  {
   "cell_type": "markdown",
   "metadata": {},
   "source": [
    "We've successfully called the function that we defined,\n",
    "and we have access to the value that we returned.\n",
    "\n",
    "## Composing Functions\n",
    "\n",
    "Now that we've seen how to turn Fahrenheit into Kelvin,\n",
    "it's easy to turn Kelvin into Celsius:"
   ]
  },
  {
   "cell_type": "code",
   "execution_count": 11,
   "metadata": {},
   "outputs": [
    {
     "name": "stdout",
     "output_type": "stream",
     "text": [
      "absolute zero in Celsius: -273.15\n"
     ]
    }
   ],
   "source": [
    "def kelvin_to_celsius(temp_k):\n",
    "    return temp_k - 273.15\n",
    "\n",
    "print('absolute zero in Celsius:', kelvin_to_celsius(0.0))"
   ]
  },
  {
   "cell_type": "markdown",
   "metadata": {},
   "source": [
    "What about converting Fahrenheit to Celsius?\n",
    "We could write out the formula,\n",
    "but we don't need to.\n",
    "Instead,\n",
    "we can [compose](reference.html#compose) the two functions we have already created:"
   ]
  },
  {
   "cell_type": "code",
   "execution_count": 12,
   "metadata": {},
   "outputs": [
    {
     "name": "stdout",
     "output_type": "stream",
     "text": [
      "freezing point of water in Celsius: 0.0\n"
     ]
    }
   ],
   "source": [
    "def fahr_to_celsius(temp_f):\n",
    "    temp_k = fahr_to_kelvin(temp_f)\n",
    "    result = kelvin_to_celsius(temp_k)\n",
    "    return result\n",
    "\n",
    "print('freezing point of water in Celsius:', fahr_to_celsius(32.0))"
   ]
  },
  {
   "cell_type": "markdown",
   "metadata": {},
   "source": [
    "This is our first taste of how larger programs are built:\n",
    "we define basic operations,\n",
    "then combine them in ever-large chunks to get the effect we want.\n",
    "Real-life functions will usually be larger than the ones shown here --- typically half a dozen to a few dozen lines --- but\n",
    "they shouldn't ever be much longer than that,\n",
    "or the next person who reads it won't be able to understand what's going on.\n",
    "\n",
    "## Tidying up\n",
    "\n",
    "Now that we know how to wrap bits of code up in functions,\n",
    "we can make our inflammation analysis easier to read and easier to reuse.\n",
    "First, let's make an `analyze` function that generates our plots:"
   ]
  },
  {
   "cell_type": "code",
   "execution_count": 13,
   "metadata": {},
   "outputs": [],
   "source": [
    "def analyze(filename):\n",
    "\n",
    "    data = numpy.loadtxt(fname=filename, delimiter=',')\n",
    "\n",
    "    fig = matplotlib.pyplot.figure(figsize=(10.0, 3.0))\n",
    "\n",
    "    axes1 = fig.add_subplot(1, 3, 1)\n",
    "    axes2 = fig.add_subplot(1, 3, 2)\n",
    "    axes3 = fig.add_subplot(1, 3, 3)\n",
    "\n",
    "    axes1.set_ylabel('average')\n",
    "    axes1.plot(data.mean(axis=0))\n",
    "\n",
    "    axes2.set_ylabel('max')\n",
    "    axes2.plot(data.max(axis=0))\n",
    "\n",
    "    axes3.set_ylabel('min')\n",
    "    axes3.plot(data.min(axis=0))\n",
    "\n",
    "    fig.tight_layout()\n",
    "    matplotlib.pyplot.show()"
   ]
  },
  {
   "cell_type": "markdown",
   "metadata": {},
   "source": [
    "Try it: "
   ]
  },
  {
   "cell_type": "code",
   "execution_count": 14,
   "metadata": {},
   "outputs": [
    {
     "data": {
      "image/png": "[encoded data removed]",
      "text/plain": [
       "<Figure size 720x216 with 3 Axes>"
      ]
     },
     "metadata": {
      "needs_background": "light"
     },
     "output_type": "display_data"
    }
   ],
   "source": [
    "filename ='../../data/topo.asc'\n",
    "analyze(filename)"
   ]
  },
  {
   "cell_type": "markdown",
   "metadata": {},
   "source": [
    "and another function called `detect_problems` that checks for those systematics\n",
    "we noticed:"
   ]
  },
  {
   "cell_type": "code",
   "execution_count": 15,
   "metadata": {},
   "outputs": [],
   "source": [
    "def detect_problems(filename):\n",
    "\n",
    "    data = numpy.loadtxt(fname=filename, delimiter=',')\n",
    "\n",
    "    if data.max(axis=0)[0] == 0 and data.max(axis=0)[20] == 20:\n",
    "        print('Suspicious looking maxima!')\n",
    "    elif data.min(axis=0).sum() == 0:\n",
    "        print('Minima add up to zero!')\n",
    "    else:\n",
    "        print('Seems OK!')"
   ]
  },
  {
   "cell_type": "markdown",
   "metadata": {},
   "source": [
    "Try it: "
   ]
  },
  {
   "cell_type": "code",
   "execution_count": 16,
   "metadata": {},
   "outputs": [
    {
     "name": "stdout",
     "output_type": "stream",
     "text": [
      "Seems OK!\n"
     ]
    }
   ],
   "source": [
    "filename ='../../data/topo.asc'\n",
    "detect_problems(filename)"
   ]
  },
  {
   "cell_type": "markdown",
   "metadata": {},
   "source": [
    "## Testing and Documenting\n",
    "\n",
    "Once we start putting things in functions so that we can re-use them,\n",
    "we need to start testing that those functions are working correctly.\n",
    "To see how to do this,\n",
    "let's write a function to center a dataset around a particular value:"
   ]
  },
  {
   "cell_type": "code",
   "execution_count": 17,
   "metadata": {},
   "outputs": [],
   "source": [
    "def center(data, desired):\n",
    "    return (data - data.mean()) + desired"
   ]
  },
  {
   "cell_type": "markdown",
   "metadata": {},
   "source": [
    "We could test this on our actual data,\n",
    "but since we don't know what the values ought to be,\n",
    "it will be hard to tell if the result was correct.\n",
    "Instead,\n",
    "let's use NumPy to create a matrix of 0's\n",
    "and then center that around 3:"
   ]
  },
  {
   "cell_type": "code",
   "execution_count": 18,
   "metadata": {},
   "outputs": [
    {
     "name": "stdout",
     "output_type": "stream",
     "text": [
      "[[3. 3.]\n",
      " [3. 3.]]\n"
     ]
    }
   ],
   "source": [
    "z = numpy.zeros((2,2))\n",
    "print(center(z, 3))"
   ]
  },
  {
   "cell_type": "markdown",
   "metadata": {},
   "source": [
    "That looks right,\n",
    "so let's try `center` on our real data:"
   ]
  },
  {
   "cell_type": "code",
   "execution_count": 19,
   "metadata": {},
   "outputs": [
    {
     "name": "stdout",
     "output_type": "stream",
     "text": [
      "[[  45.21743593   44.50133593   43.53673593 ... -570.29236407\n",
      "  -568.18486407 -564.51376407]\n",
      " [  44.70893593   43.90253593   42.78853593 ... -570.92246407\n",
      "  -568.70496407 -565.82066407]\n",
      " [  44.37513593   43.29803593   42.09713593 ... -571.78886407\n",
      "  -569.80576407 -567.58916407]\n",
      " ...\n",
      " [ 171.52923593  181.16053593  189.69373593 ... -372.80256407\n",
      "  -384.29816407 -391.24866407]\n",
      " [ 171.46063593  181.40913593  191.87463593 ... -378.28716407\n",
      "  -387.90856407 -393.96616407]\n",
      " [ 173.06073593  182.90883593  194.51263593 ... -383.85556407\n",
      "  -391.09746407 -396.93396407]]\n"
     ]
    }
   ],
   "source": [
    "filename ='../../data/topo.asc'\n",
    "\n",
    "data = numpy.loadtxt(fname=filename, delimiter=',')\n",
    "print(center(data, 0))"
   ]
  },
  {
   "cell_type": "markdown",
   "metadata": {},
   "source": [
    "It's hard to tell from the default output whether the result is correct,\n",
    "but there are a few simple tests that will reassure us:"
   ]
  },
  {
   "cell_type": "code",
   "execution_count": 20,
   "metadata": {},
   "outputs": [
    {
     "name": "stdout",
     "output_type": "stream",
     "text": [
      "original min, mean, and max are: 2565.0293 3153.6216640708008 3831.2617\n",
      "min, mean, and and max of centered data are: -588.5923640708006 -7.557682693004609e-13 677.6400359291993\n"
     ]
    }
   ],
   "source": [
    "print('original min, mean, and max are:', data.min(), data.mean(), data.max())\n",
    "centered = center(data, 0)\n",
    "print('min, mean, and and max of centered data are:', centered.min(), centered.mean(), centered.max())"
   ]
  },
  {
   "cell_type": "markdown",
   "metadata": {},
   "source": [
    "That seems almost right:\n",
    "the original mean was about ca. 3153.6,\n",
    "so the lower bound from zero is now about 3153.6-2565.0293.\n",
    "The mean of the centered data isn't quite zero --- we'll explore why not in the challenges --- but it's pretty close.\n",
    "We can even go further and check that the standard deviation hasn't changed:"
   ]
  },
  {
   "cell_type": "code",
   "execution_count": 21,
   "metadata": {},
   "outputs": [
    {
     "name": "stdout",
     "output_type": "stream",
     "text": [
      "std dev before and after: 234.53903692994228 234.53903692994228\n"
     ]
    }
   ],
   "source": [
    "print('std dev before and after:', data.std(), centered.std())"
   ]
  },
  {
   "cell_type": "markdown",
   "metadata": {},
   "source": [
    "Those values look the same,\n",
    "but we probably wouldn't notice if they were different in the sixth decimal place.\n",
    "Let's do this instead:"
   ]
  },
  {
   "cell_type": "code",
   "execution_count": 22,
   "metadata": {},
   "outputs": [
    {
     "name": "stdout",
     "output_type": "stream",
     "text": [
      "difference in standard deviations before and after: 0.0\n"
     ]
    }
   ],
   "source": [
    "print('difference in standard deviations before and after:', data.std() - centered.std())"
   ]
  },
  {
   "cell_type": "markdown",
   "metadata": {},
   "source": [
    "Again,\n",
    "the difference is very small.\n",
    "It's still possible that our function is wrong,\n",
    "but it seems unlikely enough that we should probably get back to doing our analysis.\n",
    "We have one more task first, though:\n",
    "we should write some [documentation](reference.html#documentation) for our function\n",
    "to remind ourselves later what it's for and how to use it.\n",
    "\n",
    "The usual way to put documentation in software is to add [comments](reference.html#comment) like this:"
   ]
  },
  {
   "cell_type": "code",
   "execution_count": 23,
   "metadata": {},
   "outputs": [],
   "source": [
    "# center(data, desired): return a new array containing the original data centered around the desired value.\n",
    "def center(data, desired):\n",
    "    return (data - data.mean()) + desired"
   ]
  },
  {
   "cell_type": "markdown",
   "metadata": {},
   "source": [
    "There's a better way, though.\n",
    "If the first thing in a function is a string that isn't assigned to a variable,\n",
    "that string is attached to the function as its documentation:"
   ]
  },
  {
   "cell_type": "code",
   "execution_count": 24,
   "metadata": {},
   "outputs": [],
   "source": [
    "def center(data, desired):\n",
    "    '''Return a new array containing the original data centered around the desired value.'''\n",
    "    return (data - data.mean()) + desired"
   ]
  },
  {
   "cell_type": "markdown",
   "metadata": {},
   "source": [
    "This is better because we can now ask Python's built-in help system to show us the documentation for the function:"
   ]
  },
  {
   "cell_type": "code",
   "execution_count": 25,
   "metadata": {},
   "outputs": [
    {
     "name": "stdout",
     "output_type": "stream",
     "text": [
      "Help on function center in module __main__:\n",
      "\n",
      "center(data, desired)\n",
      "    Return a new array containing the original data centered around the desired value.\n",
      "\n"
     ]
    }
   ],
   "source": [
    "help(center)"
   ]
  },
  {
   "cell_type": "code",
   "execution_count": 26,
   "metadata": {
    "attributes": {
     "classes": [
      "output"
     ],
     "id": ""
    }
   },
   "outputs": [],
   "source": [
    "?center"
   ]
  },
  {
   "cell_type": "markdown",
   "metadata": {},
   "source": [
    "A string like this is called a [docstring](reference.html#docstring).\n",
    "We don't need to use triple quotes when we write one,\n",
    "but if we do,\n",
    "we can break the string across multiple lines:"
   ]
  },
  {
   "cell_type": "code",
   "execution_count": 27,
   "metadata": {},
   "outputs": [
    {
     "name": "stdout",
     "output_type": "stream",
     "text": [
      "Help on function center in module __main__:\n",
      "\n",
      "center(data, desired)\n",
      "    Return a new array containing the original data centered around the desired value.\n",
      "    Example: center([1, 2, 3], 0) => [-1, 0, 1]\n",
      "\n"
     ]
    }
   ],
   "source": [
    "def center(data, desired):\n",
    "    '''Return a new array containing the original data centered around the desired value.\n",
    "    Example: center([1, 2, 3], 0) => [-1, 0, 1]'''\n",
    "    return (data - data.mean()) + desired\n",
    "\n",
    "help(center)"
   ]
  },
  {
   "cell_type": "markdown",
   "metadata": {},
   "source": [
    "## Defining Defaults\n",
    "\n",
    "We have passed parameters to functions in two ways:\n",
    "directly, as in `type(data)`,\n",
    "and by name, as in `numpy.loadtxt(fname='something.csv', delimiter=',')`.\n",
    "In fact,\n",
    "we can pass the filename to `loadtxt` without the `fname=`:"
   ]
  },
  {
   "cell_type": "code",
   "execution_count": 28,
   "metadata": {},
   "outputs": [
    {
     "data": {
      "text/plain": [
       "array([[3198.8391, 3198.123 , 3197.1584, ..., 2583.3293, 2585.4368,\n",
       "        2589.1079],\n",
       "       [3198.3306, 3197.5242, 3196.4102, ..., 2582.6992, 2584.9167,\n",
       "        2587.801 ],\n",
       "       [3197.9968, 3196.9197, 3195.7188, ..., 2581.8328, 2583.8159,\n",
       "        2586.0325],\n",
       "       ...,\n",
       "       [3325.1509, 3334.7822, 3343.3154, ..., 2780.8191, 2769.3235,\n",
       "        2762.373 ],\n",
       "       [3325.0823, 3335.0308, 3345.4963, ..., 2775.3345, 2765.7131,\n",
       "        2759.6555],\n",
       "       [3326.6824, 3336.5305, 3348.1343, ..., 2769.7661, 2762.5242,\n",
       "        2756.6877]])"
      ]
     },
     "execution_count": 28,
     "metadata": {},
     "output_type": "execute_result"
    }
   ],
   "source": [
    "numpy.loadtxt('../../data/topo.asc', delimiter=',')"
   ]
  },
  {
   "cell_type": "markdown",
   "metadata": {},
   "source": [
    "but we still need to say `delimiter=`:\n",
    "\n",
    "What happens if you enter the following statement?  \n",
    " ~~~ {.python}\n",
    " numpy.loadtxt('data/topo.asc', ',')\n",
    " ~~~"
   ]
  },
  {
   "cell_type": "code",
   "execution_count": null,
   "metadata": {},
   "outputs": [],
   "source": []
  },
  {
   "cell_type": "markdown",
   "metadata": {},
   "source": [
    "To understand what's going on,\n",
    "and make our own functions easier to use,\n",
    "let's re-define our `center` function like this:"
   ]
  },
  {
   "cell_type": "code",
   "execution_count": 29,
   "metadata": {},
   "outputs": [],
   "source": [
    "def center(data, desired=0.0):\n",
    "    '''Return a new array containing the original data centered around the desired value (0 by default).\n",
    "    Example: center([1, 2, 3], 0) => [-1, 0, 1]'''\n",
    "    return (data - data.mean()) + desired"
   ]
  },
  {
   "cell_type": "markdown",
   "metadata": {},
   "source": [
    "The key change is that the second parameter is now written `desired=0.0` instead of just `desired`.\n",
    "If we call the function with two arguments,\n",
    "it works as it did before:"
   ]
  },
  {
   "cell_type": "code",
   "execution_count": 30,
   "metadata": {},
   "outputs": [
    {
     "name": "stdout",
     "output_type": "stream",
     "text": [
      "[[3. 3.]\n",
      " [3. 3.]]\n"
     ]
    }
   ],
   "source": [
    "test_data = numpy.zeros((2, 2))\n",
    "print(center(test_data, 3))"
   ]
  },
  {
   "cell_type": "markdown",
   "metadata": {},
   "source": [
    "But we can also now call it with just one parameter,\n",
    "in which case `desired` is automatically assigned the [default value](reference.html#default-value) of 0.0:"
   ]
  },
  {
   "cell_type": "code",
   "execution_count": 31,
   "metadata": {},
   "outputs": [
    {
     "name": "stdout",
     "output_type": "stream",
     "text": [
      "data before centering:\n",
      "[[5. 5.]\n",
      " [5. 5.]]\n",
      "centered data:\n",
      "[[0. 0.]\n",
      " [0. 0.]]\n"
     ]
    }
   ],
   "source": [
    "more_data = 5 + numpy.zeros((2, 2))\n",
    "print('data before centering:')\n",
    "print(more_data)\n",
    "print('centered data:')\n",
    "print(center(more_data))"
   ]
  },
  {
   "cell_type": "markdown",
   "metadata": {},
   "source": [
    "This is handy:\n",
    "if we usually want a function to work one way,\n",
    "but occasionally need it to do something else,\n",
    "we can allow people to pass a parameter when they need to\n",
    "but provide a default to make the normal case easier.\n",
    "The example below shows how Python matches values to parameters:"
   ]
  },
  {
   "cell_type": "code",
   "execution_count": 32,
   "metadata": {},
   "outputs": [
    {
     "name": "stdout",
     "output_type": "stream",
     "text": [
      "no parameters:\n",
      "a: 1 b: 2 c: 3\n",
      "one parameter:\n",
      "a: 55 b: 2 c: 3\n",
      "two parameters:\n",
      "a: 55 b: 66 c: 3\n"
     ]
    }
   ],
   "source": [
    "def display(a=1, b=2, c=3):\n",
    "    print('a:', a, 'b:', b, 'c:', c)\n",
    "\n",
    "print('no parameters:')\n",
    "display()\n",
    "print('one parameter:')\n",
    "display(55)\n",
    "print('two parameters:')\n",
    "display(55, 66)"
   ]
  },
  {
   "cell_type": "markdown",
   "metadata": {},
   "source": [
    "As this example shows,\n",
    "parameters are matched up from left to right,\n",
    "and any that haven't been given a value explicitly get their default value.\n",
    "We can override this behavior by naming the value as we pass it in:"
   ]
  },
  {
   "cell_type": "code",
   "execution_count": 33,
   "metadata": {},
   "outputs": [
    {
     "name": "stdout",
     "output_type": "stream",
     "text": [
      "only setting the value of c\n",
      "a: 1 b: 2 c: 77\n"
     ]
    }
   ],
   "source": [
    "print('only setting the value of c')\n",
    "display(c=77)"
   ]
  },
  {
   "cell_type": "markdown",
   "metadata": {},
   "source": [
    "With that in hand,\n",
    "let's look at the help for `numpy.loadtxt`:"
   ]
  },
  {
   "cell_type": "code",
   "execution_count": 34,
   "metadata": {},
   "outputs": [
    {
     "name": "stdout",
     "output_type": "stream",
     "text": [
      "Help on function loadtxt in module numpy:\n",
      "\n",
      "loadtxt(fname, dtype=<class 'float'>, comments='#', delimiter=None, converters=None, skiprows=0, usecols=None, unpack=False, ndmin=0, encoding='bytes', max_rows=None)\n",
      "    Load data from a text file.\n",
      "    \n",
      "    Each row in the text file must have the same number of values.\n",
      "    \n",
      "    Parameters\n",
      "    ----------\n",
      "    fname : file, str, or pathlib.Path\n",
      "        File, filename, or generator to read.  If the filename extension is\n",
      "        ``.gz`` or ``.bz2``, the file is first decompressed. Note that\n",
      "        generators should return byte strings.\n",
      "    dtype : data-type, optional\n",
      "        Data-type of the resulting array; default: float.  If this is a\n",
      "        structured data-type, the resulting array will be 1-dimensional, and\n",
      "        each row will be interpreted as an element of the array.  In this\n",
      "        case, the number of columns used must match the number of fields in\n",
      "        the data-type.\n",
      "    comments : str or sequence of str, optional\n",
      "        The characters or list of characters used to indicate the start of a\n",
      "        comment. None implies no comments. For backwards compatibility, byte\n",
      "        strings will be decoded as 'latin1'. The default is '#'.\n",
      "    delimiter : str, optional\n",
      "        The string used to separate values. For backwards compatibility, byte\n",
      "        strings will be decoded as 'latin1'. The default is whitespace.\n",
      "    converters : dict, optional\n",
      "        A dictionary mapping column number to a function that will parse the\n",
      "        column string into the desired value.  E.g., if column 0 is a date\n",
      "        string: ``converters = {0: datestr2num}``.  Converters can also be\n",
      "        used to provide a default value for missing data (but see also\n",
      "        `genfromtxt`): ``converters = {3: lambda s: float(s.strip() or 0)}``.\n",
      "        Default: None.\n",
      "    skiprows : int, optional\n",
      "        Skip the first `skiprows` lines, including comments; default: 0.\n",
      "    usecols : int or sequence, optional\n",
      "        Which columns to read, with 0 being the first. For example,\n",
      "        ``usecols = (1,4,5)`` will extract the 2nd, 5th and 6th columns.\n",
      "        The default, None, results in all columns being read.\n",
      "    \n",
      "        .. versionchanged:: 1.11.0\n",
      "            When a single column has to be read it is possible to use\n",
      "            an integer instead of a tuple. E.g ``usecols = 3`` reads the\n",
      "            fourth column the same way as ``usecols = (3,)`` would.\n",
      "    unpack : bool, optional\n",
      "        If True, the returned array is transposed, so that arguments may be\n",
      "        unpacked using ``x, y, z = loadtxt(...)``.  When used with a structured\n",
      "        data-type, arrays are returned for each field.  Default is False.\n",
      "    ndmin : int, optional\n",
      "        The returned array will have at least `ndmin` dimensions.\n",
      "        Otherwise mono-dimensional axes will be squeezed.\n",
      "        Legal values: 0 (default), 1 or 2.\n",
      "    \n",
      "        .. versionadded:: 1.6.0\n",
      "    encoding : str, optional\n",
      "        Encoding used to decode the inputfile. Does not apply to input streams.\n",
      "        The special value 'bytes' enables backward compatibility workarounds\n",
      "        that ensures you receive byte arrays as results if possible and passes\n",
      "        'latin1' encoded strings to converters. Override this value to receive\n",
      "        unicode arrays and pass strings as input to converters.  If set to None\n",
      "        the system default is used. The default value is 'bytes'.\n",
      "    \n",
      "        .. versionadded:: 1.14.0\n",
      "    max_rows : int, optional\n",
      "        Read `max_rows` lines of content after `skiprows` lines. The default\n",
      "        is to read all the lines.\n",
      "    \n",
      "        .. versionadded:: 1.16.0\n",
      "    \n",
      "    Returns\n",
      "    -------\n",
      "    out : ndarray\n",
      "        Data read from the text file.\n",
      "    \n",
      "    See Also\n",
      "    --------\n",
      "    load, fromstring, fromregex\n",
      "    genfromtxt : Load data with missing values handled as specified.\n",
      "    scipy.io.loadmat : reads MATLAB data files\n",
      "    \n",
      "    Notes\n",
      "    -----\n",
      "    This function aims to be a fast reader for simply formatted files.  The\n",
      "    `genfromtxt` function provides more sophisticated handling of, e.g.,\n",
      "    lines with missing values.\n",
      "    \n",
      "    .. versionadded:: 1.10.0\n",
      "    \n",
      "    The strings produced by the Python float.hex method can be used as\n",
      "    input for floats.\n",
      "    \n",
      "    Examples\n",
      "    --------\n",
      "    >>> from io import StringIO   # StringIO behaves like a file object\n",
      "    >>> c = StringIO(u\"0 1\\n2 3\")\n",
      "    >>> np.loadtxt(c)\n",
      "    array([[0., 1.],\n",
      "           [2., 3.]])\n",
      "    \n",
      "    >>> d = StringIO(u\"M 21 72\\nF 35 58\")\n",
      "    >>> np.loadtxt(d, dtype={'names': ('gender', 'age', 'weight'),\n",
      "    ...                      'formats': ('S1', 'i4', 'f4')})\n",
      "    array([(b'M', 21, 72.), (b'F', 35, 58.)],\n",
      "          dtype=[('gender', 'S1'), ('age', '<i4'), ('weight', '<f4')])\n",
      "    \n",
      "    >>> c = StringIO(u\"1,0,2\\n3,0,4\")\n",
      "    >>> x, y = np.loadtxt(c, delimiter=',', usecols=(0, 2), unpack=True)\n",
      "    >>> x\n",
      "    array([1., 3.])\n",
      "    >>> y\n",
      "    array([2., 4.])\n",
      "\n"
     ]
    }
   ],
   "source": [
    "help(numpy.loadtxt)"
   ]
  },
  {
   "cell_type": "markdown",
   "metadata": {},
   "source": [
    "There's a lot of information here,\n",
    "but the most important part is the first couple of lines:\n",
    "\n",
    "~~~ {.output}\n",
    "loadtxt(fname, dtype=<type 'float'>, comments='#', delimiter=None, converters=None, skiprows=0, usecols=None,\n",
    "        unpack=False, ndmin=0)\n",
    "~~~\n",
    "\n",
    "This tells us that `loadtxt` has one parameter called `fname` that doesn't have a default value,\n",
    "and eight others that do.\n",
    "If we call the function like this (try):\n",
    " ~~~ {.python}\n",
    " numpy.loadtxt('data/topo.asc', ',')\n",
    " ~~~"
   ]
  },
  {
   "cell_type": "code",
   "execution_count": null,
   "metadata": {},
   "outputs": [],
   "source": []
  },
  {
   "cell_type": "markdown",
   "metadata": {},
   "source": [
    "then the filename is assigned to `fname` (which is what we want),\n",
    "but the delimiter string `','` is assigned to `dtype` rather than `delimiter`,\n",
    "because `dtype` is the second parameter in the list. However ',' isn't a known `dtype` so\n",
    "our code produced an error message when we tried to run it.\n",
    "When we call `loadtxt` we don't have to provide `fname=` for the filename because it's the\n",
    "first item in the list, but if we want the ',' to be assigned to the variable `delimiter`,\n",
    "we *do* have to provide `delimiter=` for the second parameter since `delimiter` is not\n",
    "the second parameter in the list."
   ]
  },
  {
   "cell_type": "markdown",
   "metadata": {},
   "source": [
    " ## Test your skills 01: Combining strings \n",
    "\n",
    " \"Adding\" two strings produces their concatenation:\n",
    " `'a' + 'b'` is `'ab'`.\n",
    " Write a function called `fence` that takes two parameters called `original` and `wrapper`\n",
    " and returns a new string that has the wrapper character at the beginning and end of the original.\n",
    " A call to your function should look like this:\n",
    "\n",
    " ~~~ {.python}\n",
    " print(fence('name', '*'))\n",
    " ~~~\n",
    " ~~~ {.output}\n",
    " *name*\n",
    " ~~~"
   ]
  },
  {
   "cell_type": "code",
   "execution_count": null,
   "metadata": {},
   "outputs": [],
   "source": []
  },
  {
   "cell_type": "markdown",
   "metadata": {},
   "source": [
    "## Test your skills 02: Selecting characters from strings \n",
    "\n",
    " If the variable `s` refers to a string,\n",
    " then `s[0]` is the string's first character\n",
    " and `s[-1]` is its last.\n",
    " Write a function called `outer`\n",
    " that returns a string made up of just the first and last characters of its input.\n",
    " A call to your function should look like this:\n",
    "\n",
    " ~~~ {.python}\n",
    " print(outer('helium'))\n",
    " ~~~\n",
    " ~~~ {.output}\n",
    " hm\n",
    " ~~~"
   ]
  },
  {
   "cell_type": "code",
   "execution_count": null,
   "metadata": {},
   "outputs": [],
   "source": []
  },
  {
   "cell_type": "markdown",
   "metadata": {},
   "source": [
    "## Test your skills 03 : Rescaling an array \n",
    "\n",
    " Write a function `rescale` that takes an array as input\n",
    " and returns a corresponding array of values scaled to lie in the range 0.0 to 1.0.\n",
    " (Hint: If $L$ and $H$ are the lowest and highest values in the original array,\n",
    " then the replacement for a value $v$ should be $(v-L) / (H-L)$.)"
   ]
  },
  {
   "cell_type": "code",
   "execution_count": null,
   "metadata": {},
   "outputs": [],
   "source": []
  },
  {
   "cell_type": "markdown",
   "metadata": {},
   "source": [
    "## Test your skills 04: Testing and documenting your function \n",
    "\n",
    " Run the commands `help(numpy.arange)` and `help(numpy.linspace)`\n",
    " to see how to use these functions to generate regularly-spaced values,\n",
    " then use those values to test your `rescale` function.\n",
    " Once you've successfully tested your function,\n",
    " add a docstring that explains what it does.\n",
    " "
   ]
  },
  {
   "cell_type": "code",
   "execution_count": null,
   "metadata": {},
   "outputs": [],
   "source": []
  },
  {
   "cell_type": "markdown",
   "metadata": {},
   "source": [
    "## Test your skills 05: Defining defaults \n",
    "\n",
    " Rewrite the `rescale` function so that it scales data to lie between 0.0 and 1.0 by default,\n",
    " but will allow the caller to specify lower and upper bounds if they want.\n",
    " Compare your implementation to your neighbor's:\n",
    " do the two functions always behave the same way?"
   ]
  },
  {
   "cell_type": "code",
   "execution_count": null,
   "metadata": {},
   "outputs": [],
   "source": []
  },
  {
   "cell_type": "markdown",
   "metadata": {},
   "source": [
    "## Test your skills 06: Variables inside and outside functions\n",
    "\n",
    " What does the following piece of code display when run - and why?\n",
    "\n",
    " ~~~ {.python}\n",
    " f = 0\n",
    " k = 0\n",
    "\n",
    " def f2k(f):\n",
    "   k = ((f-32)*(5.0/9.0)) + 273.15\n",
    "   return k\n",
    "\n",
    " f2k(8)\n",
    " f2k(41)\n",
    " f2k(32)\n",
    "\n",
    " print(k)\n",
    " ~~~"
   ]
  },
  {
   "cell_type": "code",
   "execution_count": null,
   "metadata": {},
   "outputs": [],
   "source": []
  },
  {
   "cell_type": "code",
   "execution_count": null,
   "metadata": {},
   "outputs": [],
   "source": []
  }
 ],
 "metadata": {
  "kernelspec": {
   "display_name": "Python 3",
   "language": "python",
   "name": "python3"
  },
  "language_info": {
   "codemirror_mode": {
    "name": "ipython",
    "version": 3
   },
   "file_extension": ".py",
   "mimetype": "text/x-python",
   "name": "python",
   "nbconvert_exporter": "python",
   "pygments_lexer": "ipython3",
   "version": "3.6.10"
  }
 },
 "nbformat": 4,
 "nbformat_minor": 4
}
