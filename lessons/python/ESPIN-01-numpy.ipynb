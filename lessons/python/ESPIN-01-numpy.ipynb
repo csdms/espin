{
 "cells": [
  {
   "cell_type": "markdown",
   "metadata": {},
   "source": [
    "<a href=\"https://csdms.colorado.edu/wiki/ESPIn2020\"><img style=\"float: center; width: 75%\" src=\"../../media/ESPIn.png\"></a>"
   ]
  },
  {
   "cell_type": "markdown",
   "metadata": {},
   "source": [
    "# Programming with Python\n",
    "## Analyzing Topographic Data\n",
    "### minutes: 30\n",
    "---\n",
    "> ## Learning Objectives\n",
    ">\n",
    "> *   Explain what a library is, and what libraries are used for\n",
    "> *   Load a Python library and use the tools it contains\n",
    "> *   Read data from a file into a program\n",
    "> *   Assign values to variables\n",
    "> *   Select individual values and subsections from data\n",
    "> *   Perform operations on arrays of data\n",
    "> *   Display simple graphs\n",
    "\n",
    "While a lot of powerful tools are built into languages like Python,\n",
    "even more tools exist in [libraries](reference.html#library).\n",
    "\n",
    "In order to load the elevation data,\n",
    "we need to [import](reference.html#import) a library called NumPy.\n",
    "You should use this library if you want to do fancy things with numbers (ie. math),\n",
    "especially if you have matrices or arrays.\n",
    "We can load NumPy using:"
   ]
  },
  {
   "cell_type": "code",
   "execution_count": 136,
   "metadata": {},
   "outputs": [],
   "source": [
    "import numpy"
   ]
  },
  {
   "cell_type": "markdown",
   "metadata": {},
   "source": [
    "Importing a library is like pulling a toolbox out of a\n",
    "storage locker and placing it on your workbench, making everything inside the toolbox accessible. Python has a set of built-in functions that are always available (the tools you always have available) and libraries provide\n",
    "additional functionality (the specialized tools in the toolbox you only sometimes need).\n",
    "\n",
    "\n",
    "Once we’ve loaded the library, we can\n",
    "call a function inside that library to read the data file:"
   ]
  },
  {
   "cell_type": "code",
   "execution_count": 137,
   "metadata": {},
   "outputs": [
    {
     "data": {
      "text/plain": [
       "array([[3198.8391, 3198.123 , 3197.1584, ..., 2583.3293, 2585.4368,\n",
       "        2589.1079],\n",
       "       [3198.3306, 3197.5242, 3196.4102, ..., 2582.6992, 2584.9167,\n",
       "        2587.801 ],\n",
       "       [3197.9968, 3196.9197, 3195.7188, ..., 2581.8328, 2583.8159,\n",
       "        2586.0325],\n",
       "       ...,\n",
       "       [3325.1509, 3334.7822, 3343.3154, ..., 2780.8191, 2769.3235,\n",
       "        2762.373 ],\n",
       "       [3325.0823, 3335.0308, 3345.4963, ..., 2775.3345, 2765.7131,\n",
       "        2759.6555],\n",
       "       [3326.6824, 3336.5305, 3348.1343, ..., 2769.7661, 2762.5242,\n",
       "        2756.6877]])"
      ]
     },
     "execution_count": 137,
     "metadata": {},
     "output_type": "execute_result"
    }
   ],
   "source": [
    "numpy.loadtxt('../../data/topo.asc', delimiter=',')"
   ]
  },
  {
   "cell_type": "markdown",
   "metadata": {},
   "source": [
    "The expression `numpy.loadtxt(...)` is a [function call](reference.html#function-call)\n",
    "that asks Python to run the function `loadtxt` that belongs to the `numpy` library.\n",
    "This [dotted notation](reference.html#dotted-notation), with the syntax `thing.component`, is used\n",
    "everywhere in Python to refer to parts of things.\n",
    "\n",
    "The function call to `numpy.loadtxt` has two [parameters](reference.html#parameter):\n",
    "the name of the file we want to read,\n",
    "and the [delimiter](reference.html#delimiter) that separates values on a line.\n",
    "Both need to be character strings (or [strings](reference.html#string), for short)\n",
    "so we write them in quotes.\n",
    "\n",
    "Within the Jupyter (iPython) notebook, pressing Shift+Enter runs the\n",
    "commands in the selected cell. Because we haven't told iPython what to\n",
    "do with the output of `numpy.loadtxt`, the notebook just displays it on\n",
    "the screen. In this case, that output is the data we just loaded. By\n",
    "default, only a few rows and columns are shown (with `...` to omit\n",
    "elements when displaying big arrays).\n",
    "\n",
    "Our call to `numpy.loadtxt` read the file but didn’t save it to memory.\n",
    "In order to access the data, we need to [assign](reference.html#assignment) the values to a [variable](reference.html#variable).\n",
    "A variable is just a name that refers to an object. Python’s variables\n",
    "must begin with a letter and are [case sensitive](reference.html#case-sensitive). We can assign a\n",
    "variable name to an object using `=`.\n",
    "\n",
    "\n",
    "## Objects and their names\n",
    "\n",
    "What happens when a function is called but the output is not assigned to\n",
    "a variable is a bit more complicated than simply not saving it. The call\n",
    "to `numpy.loadtxt` read the file and created an object in memory that\n",
    "contains the data, but because we didn't assign it to a variable name,\n",
    "there is no way for us to call this object. While this difference might\n",
    "seem irrelevant (and, in practice, it probably is), it will be important to\n",
    "consider how variable names are assigned to objects when we talk about\n",
    "mutable and immutable objects later on.\n",
    "\n",
    "A good explanation of how Python handles variables and objects can be\n",
    " found [in Jeff Knupp's blog](https://jeffknupp.com/blog/2012/11/13/is-python-callbyvalue-or-callbyreference-neither/).\n",
    "\n",
    "Let’s re-run numpy.loadtxt and assign the output to a variable name:"
   ]
  },
  {
   "cell_type": "code",
   "execution_count": 138,
   "metadata": {},
   "outputs": [],
   "source": [
    "topo = numpy.loadtxt('../../data/topo.asc', delimiter=',')"
   ]
  },
  {
   "cell_type": "markdown",
   "metadata": {},
   "source": [
    "This command doesn’t produce any visible output. If we want to see the\n",
    "data, we can print the variable’s value with the command `print`:"
   ]
  },
  {
   "cell_type": "code",
   "execution_count": 139,
   "metadata": {},
   "outputs": [
    {
     "name": "stdout",
     "output_type": "stream",
     "text": [
      "[[3198.8391 3198.123  3197.1584 ... 2583.3293 2585.4368 2589.1079]\n",
      " [3198.3306 3197.5242 3196.4102 ... 2582.6992 2584.9167 2587.801 ]\n",
      " [3197.9968 3196.9197 3195.7188 ... 2581.8328 2583.8159 2586.0325]\n",
      " ...\n",
      " [3325.1509 3334.7822 3343.3154 ... 2780.8191 2769.3235 2762.373 ]\n",
      " [3325.0823 3335.0308 3345.4963 ... 2775.3345 2765.7131 2759.6555]\n",
      " [3326.6824 3336.5305 3348.1343 ... 2769.7661 2762.5242 2756.6877]]\n"
     ]
    }
   ],
   "source": [
    "print(topo)"
   ]
  },
  {
   "cell_type": "markdown",
   "metadata": {},
   "source": [
    " ## Check your understanding\n",
    "\n",
    " Track how variable names and values are connected after each statement in the following program:"
   ]
  },
  {
   "cell_type": "code",
   "execution_count": 140,
   "metadata": {},
   "outputs": [
    {
     "name": "stdout",
     "output_type": "stream",
     "text": [
      "95.0\n"
     ]
    }
   ],
   "source": [
    " mass = 47.5\n",
    " age = 122\n",
    " mass = mass * 2.0\n",
    " age = age - 20\n",
    "\n",
    "print(mass)"
   ]
  },
  {
   "cell_type": "markdown",
   "metadata": {},
   "source": [
    " ## Sorting out references\n",
    "\n",
    " What does the following program print out?"
   ]
  },
  {
   "cell_type": "code",
   "execution_count": 141,
   "metadata": {},
   "outputs": [
    {
     "name": "stdout",
     "output_type": "stream",
     "text": [
      "Hopper Grace\n"
     ]
    }
   ],
   "source": [
    " first, second = 'Grace', 'Hopper'\n",
    " third, fourth = second, first\n",
    " print(third, fourth)"
   ]
  },
  {
   "cell_type": "markdown",
   "metadata": {},
   "source": [
    "Using its variable name, we can see that [type](reference.html#type) of object the variable name `topo` is assigned \n",
    "to:"
   ]
  },
  {
   "cell_type": "code",
   "execution_count": 142,
   "metadata": {},
   "outputs": [
    {
     "name": "stdout",
     "output_type": "stream",
     "text": [
      "<class 'numpy.ndarray'>\n"
     ]
    }
   ],
   "source": [
    "print(type(topo))"
   ]
  },
  {
   "cell_type": "markdown",
   "metadata": {},
   "source": [
    "The function `type` tells us that the variable name `topo` currently\n",
    "points to an N-dimensional array created by the NumPy library. We can also get the shape of the\n",
    "array:"
   ]
  },
  {
   "cell_type": "code",
   "execution_count": 143,
   "metadata": {},
   "outputs": [
    {
     "name": "stdout",
     "output_type": "stream",
     "text": [
      "(500, 500)\n"
     ]
    }
   ],
   "source": [
    "print(topo.shape)"
   ]
  },
  {
   "cell_type": "markdown",
   "metadata": {},
   "source": [
    "This tells us that `topo` has 500 rows and 500 columns. The file\n",
    "we imported contains elevation data (in meters, 2 degree spacing) for an\n",
    "area along the Front Range of Colorado, so the area that this array represents is 1 km x 1 km.\n",
    "\n",
    "The object of\n",
    "type `numpy.ndarray` that the variable `topo` is assigned to contains the values of the array\n",
    "as well as some extra information about the array. These are the [members](reference.html#member) or attributes of the object, and they\n",
    "describe the data in the same way an adjective describes a noun. The\n",
    "command `topo.shape` calls the `shape` attribute of the object with the variable name\n",
    "`topo` that describes its dimensions. We use the same dotted notation\n",
    "for the attributes of objects that we use for the functions inside\n",
    "libraries because they have the same part-and-whole relationship.\n",
    "\n",
    "\n",
    "## len() and other built-in functions\n",
    "\n",
    "The function `len()` returns the length of the longest axis of a\n",
    "sequence (a numpy array, a list, etc.). Because it is a built-in\n",
    "function, it is always available for the Python interpreter and doesn't\n",
    "have to be imported. The function `type()` is another built in function.\n",
    "You can read about them in the [Python docs](https://docs.python.org/2/library/functions.html).\n",
    "\n",
    "Ex. What is the length of the variable `topo`? "
   ]
  },
  {
   "cell_type": "code",
   "execution_count": 144,
   "metadata": {},
   "outputs": [
    {
     "data": {
      "text/plain": [
       "500"
      ]
     },
     "execution_count": 144,
     "metadata": {},
     "output_type": "execute_result"
    }
   ],
   "source": [
    "len(topo)"
   ]
  },
  {
   "cell_type": "markdown",
   "metadata": {},
   "source": [
    "Now, that is weird, topo is supposed to be a 500$\\times$500 matrix. In numpy, the array is actually stored as an array of arrays. \n",
    "\n",
    "Find a way to return the number of columns and rows using the built-in len() function "
   ]
  },
  {
   "cell_type": "code",
   "execution_count": 145,
   "metadata": {},
   "outputs": [
    {
     "name": "stdout",
     "output_type": "stream",
     "text": [
      "500\n",
      "500\n"
     ]
    }
   ],
   "source": [
    "print(len(topo) )   # rows\n",
    "print(len(topo[0])) # cols"
   ]
  },
  {
   "cell_type": "markdown",
   "metadata": {},
   "source": [
    " ## Who's who in the memory\n",
    "\n",
    " You can use the whos command at any time to see what variables you have\n",
    " created and what modules you have loaded into the computers memory. As\n",
    " this is an IPython command, it will only work if you are in an iPython\n",
    " terminal or the Jupyter Notebook.\n",
    " \n",
    " Try it, check what is currently on your memory"
   ]
  },
  {
   "cell_type": "code",
   "execution_count": 146,
   "metadata": {},
   "outputs": [
    {
     "name": "stdout",
     "output_type": "stream",
     "text": [
      "Variable       Type           Data/Info\n",
      "---------------------------------------\n",
      "age            int            102\n",
      "axes1          AxesSubplot    AxesSubplot(0.125,0.125;0.227941x0.755)\n",
      "axes2          AxesSubplot    AxesSubplot(0.398529,0.125;0.227941x0.755)\n",
      "axes3          AxesSubplot    AxesSubplot(0.672059,0.125;0.227941x0.755)\n",
      "double_topo    ndarray        500x500: 250000 elems, type `float64`, 2000000 bytes (1.9073486328125 Mb)\n",
      "fig            Figure         Figure(1152x216)\n",
      "first          str            Grace\n",
      "fourth         str            Grace\n",
      "half_len       int            250\n",
      "mass           float          95.0\n",
      "matplotlib     module         <module 'matplotlib' from<...>/matplotlib/__init__.py'>\n",
      "np             module         <module 'numpy' from '/Us<...>kages/numpy/__init__.py'>\n",
      "numpy          module         <module 'numpy' from '/Us<...>kages/numpy/__init__.py'>\n",
      "plt            module         <module 'matplotlib.pyplo<...>es/matplotlib/pyplot.py'>\n",
      "second         str            Hopper\n",
      "text           str            The quick brown fox jumped over the lazy dog.\n",
      "third          str            Hopper\n",
      "topo           ndarray        500x500: 250000 elems, type `float64`, 2000000 bytes (1.9073486328125 Mb)\n",
      "topo_in_feet   ndarray        500x500: 250000 elems, type `float64`, 2000000 bytes (1.9073486328125 Mb)\n",
      "topo_new       ndarray        4x6: 24 elems, type `float64`, 192 bytes\n",
      "vmax           float64        3831.2617\n",
      "vmin           float64        2565.0293\n"
     ]
    }
   ],
   "source": [
    "whos"
   ]
  },
  {
   "cell_type": "markdown",
   "metadata": {},
   "source": [
    "## Plotting\n",
    " \n",
    "Rasters are just big two dimensional arrays of values. In the case of DEMs, those values\n",
    "are elevations. It's very hard to get a good sense of what this landscape\n",
    "looks like by looking directly at the data. This information is better\n",
    "conveyed through plots and graphics.\n",
    "\n",
    "Data visualization deserves an entire lecture (or course) of its own,\n",
    "but we can explore a few features of Python's `matplotlib` library here.\n",
    "While there is no \"official\" plotting library in Python, this package is\n",
    "the de facto standard.\n",
    "\n",
    "We start by importing the `pyplot` module from the library `matplotlib`:"
   ]
  },
  {
   "cell_type": "code",
   "execution_count": 147,
   "metadata": {},
   "outputs": [],
   "source": [
    "import matplotlib.pyplot"
   ]
  },
  {
   "cell_type": "markdown",
   "metadata": {},
   "source": [
    "> ## Some IPython magic\n",
    "> \n",
    "> If you're using an IPython / Jupyter notebook, you'll need to execute\n",
    "> the following command in order for the plots to appear in\n",
    "> the notebook instead of a separate window:\n",
    "> "
   ]
  },
  {
   "cell_type": "code",
   "execution_count": 148,
   "metadata": {},
   "outputs": [],
   "source": [
    "%matplotlib inline"
   ]
  },
  {
   "cell_type": "markdown",
   "metadata": {},
   "source": [
    "> The `%` indicates an IPython magic function - a function that is only\n",
    "> valid within the notebook environment. Note that you only have to\n",
    "> execute this function once per notebook.\n",
    "\n",
    "We can use the function `imshow` within `matplotlib.pyplot` to display arrays as a 2D\n",
    "image. \n",
    "\n",
    "Try to display the 2D `topo` array"
   ]
  },
  {
   "cell_type": "code",
   "execution_count": 149,
   "metadata": {},
   "outputs": [
    {
     "data": {
      "text/plain": [
       "<matplotlib.image.AxesImage at 0x7fc6aa9f7190>"
      ]
     },
     "execution_count": 149,
     "metadata": {},
     "output_type": "execute_result"
    },
    {
     "data": {
      "image/png": "[encoded data removed]",
      "text/plain": [
       "<Figure size 432x288 with 1 Axes>"
      ]
     },
     "metadata": {
      "needs_background": "light"
     },
     "output_type": "display_data"
    }
   ],
   "source": [
    "matplotlib.pyplot.imshow(topo)"
   ]
  },
  {
   "cell_type": "markdown",
   "metadata": {},
   "source": [
    "## Indexing\n",
    "\n",
    "We can access individual values in an array using an [index](reference.html#index) in square brackets:"
   ]
  },
  {
   "cell_type": "code",
   "execution_count": 150,
   "metadata": {},
   "outputs": [
    {
     "name": "stdout",
     "output_type": "stream",
     "text": [
      "elevation at the corner of topo: 3198.8391 meters\n"
     ]
    }
   ],
   "source": [
    "print('elevation at the corner of topo:', topo[0,0], 'meters')"
   ]
  },
  {
   "cell_type": "code",
   "execution_count": 151,
   "metadata": {},
   "outputs": [
    {
     "name": "stdout",
     "output_type": "stream",
     "text": [
      "elevation at some random point in topo: 3251.1179 meters\n"
     ]
    }
   ],
   "source": [
    "print( 'elevation at some random point in topo:', topo[137,65],\n",
    "'meters')"
   ]
  },
  {
   "cell_type": "markdown",
   "metadata": {},
   "source": [
    "When referring to entries in a two dimensional array, the indices are\n",
    "ordered `[row,column]`. The expression `topo[137, 65]` should not surprise\n",
    "you but `topo[0,0]` might. Programming languages like Fortran and MATLAB\n",
    "start counting at 1 because that’s what (most) humans have done for\n",
    "thousands of years. Languages in the C family (including C++, Java,\n",
    "Perl, and Python) count from 0 because that’s simpler for computers to\n",
    "do. So if we have an M×N array in Python, the indices go from 0 to M-1\n",
    "on the first axis (rows) and 0 to N-1 on the second (columns). In\n",
    "MATLAB, the same array (or matrix) would have indices that go from 1 to\n",
    "M and 1 to N. Zero-based indexing takes a bit of getting used to, but\n",
    "one way to remember the rule is that the index is how many steps we have\n",
    "to take from the start to get to the item we want.\n",
    "\n",
    "Python also allows for negative indices to refer to the position of\n",
    "elements with respect to the end of each axis. An index of -1 refer to\n",
    "the last item in a list, -2 is the second to last, and so on. Since\n",
    "index `[0,0]` is the upper left corner of an array, index `[-1,-1]`\n",
    "therefore the lower right corner of the array. \n",
    "\n",
    "Print the lower right corner of the `topo` array: "
   ]
  },
  {
   "cell_type": "code",
   "execution_count": 152,
   "metadata": {},
   "outputs": [
    {
     "name": "stdout",
     "output_type": "stream",
     "text": [
      "2756.6877\n"
     ]
    }
   ],
   "source": [
    "print(topo[-1,-1])"
   ]
  },
  {
   "cell_type": "markdown",
   "metadata": {
    "attributes": {
     "classes": [
      "output"
     ],
     "id": ""
    }
   },
   "source": [
    "Print the upper left corner of the `topo` array: "
   ]
  },
  {
   "cell_type": "code",
   "execution_count": 153,
   "metadata": {
    "attributes": {
     "classes": [
      "output"
     ],
     "id": ""
    }
   },
   "outputs": [
    {
     "name": "stdout",
     "output_type": "stream",
     "text": [
      "3198.8391\n"
     ]
    }
   ],
   "source": [
    "print(topo[0,0])"
   ]
  },
  {
   "cell_type": "markdown",
   "metadata": {},
   "source": [
    "> ## In the Corner\n",
    ">\n",
    "> What may also surprise you is that when Python displays an array,\n",
    "> it shows the element with index `[0, 0]` in the upper left corner\n",
    "> rather than the lower left.\n",
    "> This is consistent with the way mathematicians draw matrices,\n",
    "> but different from the Cartesian coordinates.\n",
    "> The indices are (row, column) instead of (column, row) for the same reason,\n",
    "> which can be confusing when plotting data.\n",
    "\n",
    "## Slicing\n",
    "\n",
    "A command like `topo[0,0]` selects a single element in the array `topo`.\n",
    "Indices can also be used to [slice](reference.html#slice) sections of the array. For example, we\n",
    "can select the top left quarter of the array like this:"
   ]
  },
  {
   "cell_type": "code",
   "execution_count": 154,
   "metadata": {},
   "outputs": [
    {
     "name": "stdout",
     "output_type": "stream",
     "text": [
      "[[3198.8391 3198.123  3197.1584 3196.2017 3193.8813]\n",
      " [3198.3306 3197.5242 3196.4102 3194.7559 3191.9763]\n",
      " [3197.9968 3196.9197 3195.7188 3193.3855 3190.5371]\n",
      " [3198.054  3196.7031 3194.9573 3192.4451 3189.5288]\n",
      " [3198.3289 3196.9111 3195.335  3192.7874 3190.0085]]\n"
     ]
    }
   ],
   "source": [
    "print(topo[0:5, 0:5])"
   ]
  },
  {
   "cell_type": "markdown",
   "metadata": {},
   "source": [
    "The slice `[0:5]` means \"Start at index 0 and go along the axis up to,\n",
    "but not including, index 5\".\n",
    "\n",
    "We don’t need to include the upper or lower bound of the slice if we\n",
    "want to go all the way to the edge. If we don’t include the lower bound,\n",
    "Python uses 0 by default; if we don’t include the upper bound, the slice\n",
    "runs to the end of the axis. If we don’t include either (i.e., if we\n",
    "just use ‘:’), the slice includes everything. \n",
    "\n",
    "Print out the first 5 rows and last 6 columns op the topo array:"
   ]
  },
  {
   "cell_type": "code",
   "execution_count": 155,
   "metadata": {},
   "outputs": [
    {
     "name": "stdout",
     "output_type": "stream",
     "text": [
      "[[2577.6213 2579.3367 2581.2261 2583.3293 2585.4368 2589.1079]\n",
      " [2577.1921 2578.7988 2580.666  2582.6992 2584.9167 2587.801 ]\n",
      " [2576.6729 2578.2214 2579.9624 2581.8328 2583.8159 2586.0325]\n",
      " [2575.9795 2577.5312 2579.2285 2580.9688 2582.8279 2584.7751]]\n"
     ]
    }
   ],
   "source": [
    "print(topo[:4, -6:])"
   ]
  },
  {
   "cell_type": "markdown",
   "metadata": {},
   "source": [
    " ## Point elevations: Practice your skills \n",
    " \n",
    " Use indexing to answer the following questions and check your answers\n",
    " against the data visualization:\n",
    " \n",
    " * Is the NW corner of the region higher than the SW corner? What's the elevation difference? You can assume the NW corner to be in the upper left corner of the matrix (NW of at [0,0], not the Cartesian NW, see also (In the Corner)\n",
    " * What's the elevation difference between the NE corner and the SE corner?\n",
    " * What's the elevation at the center of the region shown in the array?"
   ]
  },
  {
   "cell_type": "code",
   "execution_count": null,
   "metadata": {},
   "outputs": [],
   "source": []
  },
  {
   "cell_type": "markdown",
   "metadata": {},
   "source": [
    " ## Slicing strings\n",
    " \n",
    " Indexing and slicing behave the same way for any type of sequence,\n",
    " including numpy arrays, lists, and strings. Create a new variable called\n",
    " `text` and assign it the string \"The quick brown fox jumped over the\n",
    " lazy dog.\" (note the capitalization and punctuation in each sentence, and include the quotes so Python recognizes it as a string).\n",
    " Then use slicing and the `print()` statement to create these frases:\n",
    " \n",
    " * the lazy dog.\n",
    " * The fox jumped over the dog\n",
    " * The lazy fox jumped over the quick brown dog.\n",
    " "
   ]
  },
  {
   "cell_type": "code",
   "execution_count": 156,
   "metadata": {},
   "outputs": [
    {
     "name": "stdout",
     "output_type": "stream",
     "text": [
      "The quick \n"
     ]
    }
   ],
   "source": [
    "text=\"The quick brown fox jumped over the lazy dog.\"\n",
    "\n",
    "print(text[0:10])"
   ]
  },
  {
   "cell_type": "markdown",
   "metadata": {},
   "source": [
    " ## Plotting smaller regions \n",
    " \n",
    " Use the function `imshow` from `matplotlib.pyplot` to make one plot\n",
    " showing the northern half of the region and another plot showing the southern\n",
    " half.\n",
    " \n",
    " Then try making four separate plots showing each quarter of the region\n",
    " separately."
   ]
  },
  {
   "cell_type": "code",
   "execution_count": null,
   "metadata": {},
   "outputs": [],
   "source": []
  },
  {
   "cell_type": "markdown",
   "metadata": {},
   "source": [
    " ## Non-square arrays\n",
    "  \n",
    " We've been using `len(topo)/2` as both the row and column indices of the\n",
    " center point in the array `topo`. This doesn't work with an array that's\n",
    " not square (has different height and width).\n",
    " \n",
    " * Take a (small) slice of the array `topo` and assign it to a new\n",
    " variable. Make this new array have a height longer than its width, and\n",
    " make both the height and width even numbers (4 x 6 is a good size)."
   ]
  },
  {
   "cell_type": "code",
   "execution_count": 157,
   "metadata": {},
   "outputs": [],
   "source": [
    "topo_new =topo[:4,-6:]"
   ]
  },
  {
   "cell_type": "markdown",
   "metadata": {},
   "source": [
    "  * Access the center point of your new array. Write the indices using variables, not numbers (ie. don't write `t[2,3]`) (Hint: `topo.shape` gives the number of rows and columns in `topo`. The function `len(topo)` returns the length of the first axis. Instead of using `len()`, assign the output of `shape` to a variable and use indexing). Are you *really* pointing to the center of your array? How far off are you? "
   ]
  },
  {
   "cell_type": "code",
   "execution_count": null,
   "metadata": {},
   "outputs": [],
   "source": []
  },
  {
   "cell_type": "markdown",
   "metadata": {},
   "source": [
    "## Calculating indices\n",
    "What happens if you try to access the value of topo at calcualted indices such as : `len(topo)/2` ? \n",
    "How can you resolve? \n",
    " "
   ]
  },
  {
   "cell_type": "markdown",
   "metadata": {},
   "source": []
  },
  {
   "cell_type": "markdown",
   "metadata": {},
   "source": [
    "This is all about casting variables (that is transforming them from one data type into another one). \n",
    "If you want to learn more about data types and casting, check out [this](https://github.com/donnemartin/data-science-ipython-notebooks/blob/master/numpy/02.01-Understanding-Data-Types.ipynb) repository of  Donne Martin. "
   ]
  },
  {
   "cell_type": "markdown",
   "metadata": {},
   "source": [
    "## Numerical operations on arrays\n",
    "\n",
    "We can perform basic mathematical operations on each individual element of a NumPy array. We can create a new array with elevations in feet:"
   ]
  },
  {
   "cell_type": "code",
   "execution_count": 158,
   "metadata": {},
   "outputs": [
    {
     "name": "stdout",
     "output_type": "stream",
     "text": [
      "Elevation in meters: 3198.8391\n",
      "Elevation in feet: 10494.751319280002\n"
     ]
    }
   ],
   "source": [
    "topo_in_feet = topo * 3.2808\n",
    "print('Elevation in meters:', topo[0,0])\n",
    "print('Elevation in feet:', topo_in_feet[0,0])"
   ]
  },
  {
   "cell_type": "markdown",
   "metadata": {},
   "source": [
    "Arrays of the same size can be used together in arithmatic operations:"
   ]
  },
  {
   "cell_type": "code",
   "execution_count": 159,
   "metadata": {},
   "outputs": [
    {
     "name": "stdout",
     "output_type": "stream",
     "text": [
      "Double topo: 6397.6782 meters\n"
     ]
    }
   ],
   "source": [
    "double_topo = topo + topo\n",
    "print('Double topo:', double_topo[0,0], 'meters')"
   ]
  },
  {
   "cell_type": "markdown",
   "metadata": {},
   "source": [
    "We can also perform statistical operations on arrays:"
   ]
  },
  {
   "cell_type": "code",
   "execution_count": 160,
   "metadata": {},
   "outputs": [
    {
     "name": "stdout",
     "output_type": "stream",
     "text": [
      "Mean elevation: 3153.6216640708008 meters\n"
     ]
    }
   ],
   "source": [
    "print('Mean elevation:', topo.mean(), 'meters')"
   ]
  },
  {
   "cell_type": "markdown",
   "metadata": {},
   "source": [
    "> ## Methods vs. attributes\n",
    "> \n",
    "> `mean` is a method that belongs to the array `topo`, i.e., it is a\n",
    "> function `topo` can inherently call just because of its type.\n",
    "> When we call `topo.mean()`, we are asking `topo` to calculate its mean\n",
    "> value. Because it is a function, we need to include parenthesis in the\n",
    "> command. Because it is an `np.array`, `topo` also has an attribute called `shape`, but it doesn't include parenthesis because\n",
    "> attributes are objects, not functions.\n",
    "> \n",
    "> Python will kindly tell us if we mix up the parentheses:\n",
    "> "
   ]
  },
  {
   "cell_type": "code",
   "execution_count": 161,
   "metadata": {},
   "outputs": [
    {
     "data": {
      "text/plain": [
       "<function ndarray.mean>"
      ]
     },
     "execution_count": 161,
     "metadata": {},
     "output_type": "execute_result"
    }
   ],
   "source": [
    "topo.mean"
   ]
  },
  {
   "cell_type": "markdown",
   "metadata": {},
   "source": [
    "NumPy arrays have many other useful methods:"
   ]
  },
  {
   "cell_type": "code",
   "execution_count": 162,
   "metadata": {},
   "outputs": [
    {
     "name": "stdout",
     "output_type": "stream",
     "text": [
      "Highest elevation: 3831.2617 meters\n",
      "Lowest elevation: 2565.0293 meters\n"
     ]
    }
   ],
   "source": [
    "print('Highest elevation:', topo.max(), 'meters')\n",
    "print('Lowest elevation:', topo.min(), 'meters') "
   ]
  },
  {
   "cell_type": "markdown",
   "metadata": {},
   "source": [
    "We can also call methods on slices of the array:"
   ]
  },
  {
   "cell_type": "code",
   "execution_count": 163,
   "metadata": {},
   "outputs": [
    {
     "name": "stdout",
     "output_type": "stream",
     "text": [
      "Highest elevation of NW quarter: 3600.709 meters\n",
      "Highest elevation of SE quarter: 3575.3262 meters\n"
     ]
    }
   ],
   "source": [
    "half_len = int(len(topo) / 2)\n",
    "\n",
    "print('Highest elevation of NW quarter:', topo[:half_len,\n",
    ":half_len].max(), 'meters')\n",
    "\n",
    "print('Highest elevation of SE quarter:', topo[half_len:,\n",
    "half_len:].max(), 'meters' )"
   ]
  },
  {
   "cell_type": "markdown",
   "metadata": {},
   "source": [
    "Methods can also be used along individual axes (rows or columns) of an\n",
    "array. If we want to see how the mean elevation changes with longitude\n",
    "(E-W), we can use the method along `axis=0`:"
   ]
  },
  {
   "cell_type": "code",
   "execution_count": 164,
   "metadata": {},
   "outputs": [
    {
     "name": "stdout",
     "output_type": "stream",
     "text": [
      "[3428.2054708 3427.6972338 3427.2261988 3426.584768  3426.0234734\n",
      " 3425.8775458 3425.8402916 3425.8877396 3426.0181264 3426.367201\n",
      " 3426.5001356 3426.5056046 3426.7196578 3426.83595   3426.8902076\n",
      " 3426.8796098 3427.0106752 3427.1497438 3426.9835134 3426.5728362\n",
      " 3426.2113722 3425.9928652 3426.2578698 3426.8117054 3427.2077288\n",
      " 3427.4824742 3427.6150816 3427.7935558 3428.1331802 3428.6451532\n",
      " 3428.8814682 3428.1315612 3426.4833232 3424.2040212 3420.8957744\n",
      " 3417.5235518 3414.35544   3411.0524528 3407.5421916 3403.9730066\n",
      " 3400.180012  3396.443263  3392.9023536 3389.4827594 3386.0996288\n",
      " 3382.5170704 3378.9200258 3375.4427244 3371.995064  3368.3281432\n",
      " 3364.5542568 3360.6775356 3356.9672814 3353.675611  3350.8723902\n",
      " 3348.2830278 3345.8318692 3343.3299914 3340.7651926 3338.4619194\n",
      " 3336.1401564 3333.9848948 3332.149046  3330.5379514 3329.1352982\n",
      " 3328.1674988 3327.3276044 3326.4997932 3325.6943524 3325.0253948\n",
      " 3324.3619738 3323.7668066 3323.1885194 3322.6112962 3322.1221006\n",
      " 3321.8508648 3321.7282274 3321.6573172 3321.7731836 3322.214442\n",
      " 3322.8126164 3323.5284882 3324.2807332 3324.7408192 3324.856648\n",
      " 3324.8943426 3324.9794908 3325.1011924 3325.3003882 3325.4047474\n",
      " 3325.2768618 3325.0672748 3324.9740092 3324.9785354 3324.8748038\n",
      " 3324.6774596 3324.5205146 3324.2924    3323.9914582 3323.7662032\n",
      " 3323.566673  3323.4626054 3323.551879  3323.8121002 3324.120603\n",
      " 3324.4424366 3324.7144288 3324.9603114 3325.088502  3324.967392\n",
      " 3324.7684868 3324.2218624 3323.402023  3322.3106278 3320.718968\n",
      " 3318.666341  3316.485324  3314.265267  3312.0968956 3309.927005\n",
      " 3307.8979276 3306.0454374 3304.314735  3302.6182852 3300.946553\n",
      " 3299.3028704 3297.64947   3296.1496206 3294.7390536 3293.6374266\n",
      " 3292.7092358 3291.695971  3290.5425798 3289.1869684 3287.764619\n",
      " 3286.5519796 3285.4493588 3284.337075  3283.0982844 3281.8352022\n",
      " 3280.6216026 3279.3817164 3278.0749722 3276.6190794 3274.9979928\n",
      " 3273.1155576 3271.1339334 3269.081047  3267.0843264 3265.3276918\n",
      " 3263.7239676 3262.1934672 3260.9466902 3260.0287392 3259.3844088\n",
      " 3259.0249578 3258.8882884 3259.1153352 3259.4831022 3259.8882978\n",
      " 3260.3701372 3260.8412068 3261.0962776 3261.0096308 3260.654682\n",
      " 3260.166985  3259.6515176 3258.9982424 3258.1536874 3257.0651528\n",
      " 3255.5781488 3253.637365  3251.2905576 3248.7579948 3246.0302624\n",
      " 3243.1175694 3239.9134016 3236.601053  3233.3224066 3230.1237648\n",
      " 3227.1105262 3224.0832178 3221.1076628 3218.3615188 3215.74291\n",
      " 3213.18306   3210.7958018 3208.65517   3206.6098626 3204.8629018\n",
      " 3203.2336512 3201.6076142 3200.0271842 3198.5841058 3197.2486586\n",
      " 3195.878689  3194.5447862 3193.4398856 3192.576969  3191.862704\n",
      " 3191.190041  3190.4180956 3189.5467866 3188.7374944 3188.1013476\n",
      " 3187.7003442 3187.2990616 3186.8080622 3186.3242944 3185.9028266\n",
      " 3185.360271  3184.5831534 3184.016008  3183.662333  3183.244588\n",
      " 3182.7961948 3182.6333608 3182.485607  3182.4217378 3182.4973634\n",
      " 3182.729345  3183.0983208 3183.4206316 3183.5752326 3183.6362336\n",
      " 3183.5593002 3183.339887  3183.054706  3182.7294552 3182.3960358\n",
      " 3182.0984626 3181.8521516 3181.500517  3181.1868948 3180.921346\n",
      " 3180.6895864 3180.6118128 3180.7001568 3180.8941738 3181.1269496\n",
      " 3181.4501774 3181.9123072 3182.5596438 3183.3276338 3184.1481026\n",
      " 3184.9676894 3185.770968  3186.5924334 3187.4043384 3188.220281\n",
      " 3189.169533  3190.1152408 3190.9969722 3191.8824286 3192.7665596\n",
      " 3193.5159476 3194.1024474 3194.7126396 3195.2983604 3195.7963478\n",
      " 3196.1085158 3196.0268816 3195.7874496 3195.5208372 3195.256953\n",
      " 3194.907557  3194.4653548 3193.9492814 3193.3792366 3192.8324892\n",
      " 3192.3303198 3191.8340924 3191.3967108 3190.7365604 3189.9513862\n",
      " 3189.0807302 3188.0255636 3186.9243022 3185.7608242 3184.75501\n",
      " 3183.9921856 3183.3185808 3182.6303602 3181.7779098 3180.8285172\n",
      " 3180.100494  3179.5279364 3179.0246378 3178.6570376 3178.3935466\n",
      " 3178.1324656 3177.7994922 3177.2725208 3176.5882124 3175.8212412\n",
      " 3174.944954  3174.1080488 3173.2492772 3172.3005778 3171.2963414\n",
      " 3170.2379718 3169.0649598 3167.8655758 3166.7059576 3165.5518038\n",
      " 3164.4545082 3163.3144144 3162.1461188 3161.0748972 3159.9116546\n",
      " 3158.6510056 3157.567876  3156.7006872 3155.918423  3155.327396\n",
      " 3154.9445054 3154.576029  3154.2518268 3153.9276122 3153.4892438\n",
      " 3152.8896042 3152.21746   3151.4230466 3150.5452996 3149.701759\n",
      " 3148.8545208 3147.8599836 3146.828425  3145.7939442 3144.7365124\n",
      " 3143.5746592 3142.3186992 3140.9690178 3139.3696928 3137.480052\n",
      " 3135.4078332 3133.468224  3131.7527472 3130.250347  3128.720075\n",
      " 3127.218633  3125.7356838 3124.2950554 3122.7548808 3121.0208666\n",
      " 3119.1199954 3117.1798188 3115.4369232 3113.7109056 3111.9503084\n",
      " 3110.1654078 3108.4968704 3107.031929  3105.8809356 3105.043681\n",
      " 3104.3493848 3103.7190342 3103.0225594 3102.2592996 3101.30304\n",
      " 3100.1429932 3098.7077326 3097.0092612 3095.1577918 3093.2227114\n",
      " 3091.1294094 3088.9851368 3086.7001436 3084.3761232 3082.0437364\n",
      " 3079.646367  3077.2776254 3074.840087  3072.3676682 3069.8742514\n",
      " 3067.3484812 3064.991143  3062.8160474 3060.6871516 3058.5520686\n",
      " 3056.3961428 3054.1727054 3052.0465206 3049.9308892 3047.7973302\n",
      " 3045.5953856 3043.3247636 3041.1570412 3039.0683872 3036.9365686\n",
      " 3034.7462472 3032.5370618 3030.3247954 3028.096001  3025.8993476\n",
      " 3023.7587258 3021.5766454 3019.3372886 3017.1677122 3015.034269\n",
      " 3012.8358372 3010.5847324 3008.3023716 3006.0448456 3003.8095968\n",
      " 3001.489012  2999.2744112 2996.9275986 2994.312879  2991.7053538\n",
      " 2989.1709944 2986.6202814 2983.8796072 2981.0331194 2978.3919918\n",
      " 2975.8260734 2973.2617788 2970.7328406 2968.1847668 2965.544898\n",
      " 2962.8107296 2959.8808864 2956.776023  2953.737825  2950.6490404\n",
      " 2947.3965564 2944.113185  2940.6960138 2936.9926212 2933.0935838\n",
      " 2929.1170752 2924.9865922 2920.610444  2916.0822876 2911.5646986\n",
      " 2907.027907  2902.5914744 2898.3354328 2894.0957328 2889.8071612\n",
      " 2885.36215   2880.8869816 2876.4745548 2871.8723868 2867.2183052\n",
      " 2862.3817288 2857.4006608 2852.2899508 2847.1116428 2841.8411616\n",
      " 2836.5236504 2831.0065322 2825.5879308 2820.2389006 2814.997542\n",
      " 2809.9404554 2805.0464672 2800.3041332 2795.503539  2790.5719142\n",
      " 2785.7009824 2780.9558752 2776.3499456 2771.7302324 2767.109417\n",
      " 2762.4307604 2757.7525866 2753.1287852 2748.5857684 2744.3123042\n",
      " 2740.2588874 2736.2007642 2731.8859204 2727.508735  2723.0872128\n",
      " 2718.7823056 2714.8232568 2711.0312528 2707.4173348 2704.284069\n",
      " 2701.3969704 2698.4520844 2695.5459806 2692.8387398 2690.3242574\n",
      " 2687.7059186 2684.873823  2682.0176324 2679.1918036 2676.294131\n",
      " 2673.2222786 2670.2175292 2667.2640282 2664.4045236 2661.4727784\n",
      " 2658.2491352 2654.994714  2651.9884342 2649.4527134 2647.065285 ]\n"
     ]
    }
   ],
   "source": [
    "print(topo.mean(axis=0) )"
   ]
  },
  {
   "cell_type": "markdown",
   "metadata": {},
   "source": [
    "To see how the mean elevation changes with latitude (N-S), we can use\n",
    "`axis=1`:"
   ]
  },
  {
   "cell_type": "code",
   "execution_count": 165,
   "metadata": {},
   "outputs": [
    {
     "name": "stdout",
     "output_type": "stream",
     "text": [
      "[2942.8326116 2943.959394  2945.045799  2945.9719808 2946.8093426\n",
      " 2947.596404  2948.420486  2949.274708  2949.997857  2950.5324138\n",
      " 2950.9564236 2951.5676038 2952.2330212 2953.0946878 2954.1665572\n",
      " 2955.4393058 2956.5564424 2957.7191494 2959.0154026 2960.4356226\n",
      " 2961.9122632 2963.4793924 2965.1737982 2966.7024046 2968.1888318\n",
      " 2969.7119052 2971.2346754 2972.723161  2974.1720514 2975.805006\n",
      " 2977.9770652 2980.2357216 2982.4065244 2984.609059  2986.675906\n",
      " 2988.7993386 2990.8434744 2992.8401032 2994.9146994 2996.9524666\n",
      " 2998.9516138 3000.9031134 3002.6750622 3004.3238364 3005.8296008\n",
      " 3007.2238078 3008.5737466 3009.9403134 3011.3514118 3012.7873008\n",
      " 3014.2559672 3015.721623  3017.2519796 3018.9853812 3020.974201\n",
      " 3023.0632786 3025.2736084 3027.3475148 3029.1742274 3030.797473\n",
      " 3032.199445  3033.479611  3034.4935618 3035.3736924 3036.234053\n",
      " 3036.9581828 3037.488056  3037.9723376 3038.5729022 3039.3633732\n",
      " 3040.1873288 3040.9810826 3041.8867656 3042.6949188 3043.5409014\n",
      " 3044.6889974 3046.0844998 3047.6847962 3049.2555504 3050.8501952\n",
      " 3052.558387  3054.3223286 3056.0496352 3057.9411392 3059.9105688\n",
      " 3061.7733428 3063.5906262 3065.6018232 3067.6697518 3069.666767\n",
      " 3071.5553556 3073.3504824 3075.084002  3076.9244164 3078.81121\n",
      " 3080.7045304 3082.591407  3084.4282738 3086.2754484 3088.117495\n",
      " 3089.8475376 3091.3331058 3092.595948  3093.6806482 3094.379258\n",
      " 3094.808694  3095.5468882 3096.3525554 3097.176872  3098.1523096\n",
      " 3099.2714772 3100.5297712 3101.8869128 3103.2032526 3104.5077884\n",
      " 3105.8886658 3107.292987  3108.7215592 3110.1087984 3111.5404236\n",
      " 3112.9353788 3114.1196838 3115.2133836 3116.4162032 3117.6499816\n",
      " 3118.6179184 3119.3530184 3120.1118302 3120.9129382 3121.6951184\n",
      " 3122.3858046 3123.197695  3124.306534  3125.648417  3126.953986\n",
      " 3128.3502212 3130.024652  3131.7896558 3133.4490798 3135.0149944\n",
      " 3136.4152516 3137.5939384 3138.7206482 3139.84703   3140.8023\n",
      " 3141.7106526 3142.607445  3143.605949  3144.5944748 3145.47188\n",
      " 3146.2480442 3147.0576232 3147.92865   3148.5442838 3148.980298\n",
      " 3149.3354554 3149.6677596 3149.9068962 3150.0735418 3150.2377784\n",
      " 3150.2654586 3150.3136796 3150.6448758 3151.1317416 3151.4699766\n",
      " 3151.8289222 3152.4706584 3153.3131592 3154.4044548 3155.6594122\n",
      " 3157.0940934 3158.8884822 3160.96137   3163.1407054 3165.3123548\n",
      " 3167.3896384 3169.2735888 3171.0529254 3172.7615002 3174.3999306\n",
      " 3175.8788204 3177.2669052 3178.6180996 3179.8828868 3181.1198964\n",
      " 3182.3018036 3183.4868748 3184.7186206 3185.7409712 3186.6794402\n",
      " 3187.7236494 3189.0304338 3190.5161116 3192.0418528 3193.3761186\n",
      " 3194.6075448 3195.8508148 3197.2260148 3198.6544078 3200.2671118\n",
      " 3201.9232454 3203.57342   3205.1697894 3206.8613458 3208.6512218\n",
      " 3210.6014552 3212.5052102 3214.3043138 3215.7892442 3216.958994\n",
      " 3218.0107868 3219.0672516 3219.988314  3220.8449724 3221.6958648\n",
      " 3222.4450892 3223.1436232 3223.7813372 3224.2315378 3224.6864316\n",
      " 3225.1554598 3225.6294724 3226.0597028 3226.5018216 3227.032364\n",
      " 3227.7318128 3228.7901154 3230.2276216 3231.8564776 3233.595604\n",
      " 3235.3586872 3237.034088  3238.8230878 3240.7028174 3242.5148648\n",
      " 3244.585262  3246.7332734 3248.8933344 3250.930263  3252.8522036\n",
      " 3254.7427198 3256.5732674 3258.4922702 3260.4199344 3262.342803\n",
      " 3264.1695122 3266.246563  3268.3997764 3270.3988074 3272.3070506\n",
      " 3274.0533476 3275.6312712 3276.8628388 3277.5748332 3277.7938626\n",
      " 3277.689707  3277.2395382 3276.3450306 3274.8478134 3272.7284888\n",
      " 3269.9415912 3266.7382544 3263.6237214 3260.256094  3256.7227812\n",
      " 3252.811161  3248.5319078 3244.1924404 3239.8655518 3235.6343494\n",
      " 3231.6718474 3228.2059346 3225.0097742 3221.9031714 3218.6713832\n",
      " 3215.3148212 3211.727922  3207.8083242 3203.5818524 3199.203298\n",
      " 3194.7918444 3190.3668778 3185.8994708 3181.7082936 3177.9983212\n",
      " 3174.361358  3170.4415478 3166.1321842 3161.883364  3158.1794308\n",
      " 3154.0503804 3149.945982  3146.350153  3143.1072104 3140.450629\n",
      " 3137.231189  3133.2740964 3129.4075686 3125.7234188 3122.3633276\n",
      " 3119.3493438 3116.1714634 3112.7016784 3109.4250018 3106.2614796\n",
      " 3102.9037332 3099.8331018 3096.8260264 3094.264055  3092.187492\n",
      " 3090.4104768 3089.017535  3088.1807842 3087.3446974 3086.6726236\n",
      " 3085.8316258 3084.5756314 3083.515821  3082.6961846 3082.3194218\n",
      " 3081.7509042 3080.9992966 3080.3167122 3080.035565  3080.3952258\n",
      " 3080.778032  3081.3988898 3082.3988114 3083.500938  3085.0796512\n",
      " 3087.0907332 3089.2354048 3091.548064  3093.9518462 3096.7115778\n",
      " 3099.4049648 3102.5167854 3105.8248588 3109.0241738 3112.0212244\n",
      " 3115.1943118 3118.445144  3120.94231   3122.3476524 3123.4720738\n",
      " 3124.7604592 3126.1526686 3127.4639194 3128.5504738 3129.3939778\n",
      " 3130.300735  3131.5817242 3133.15489   3134.6436282 3136.0262352\n",
      " 3137.742954  3139.6903202 3141.5591556 3143.176747  3144.6995604\n",
      " 3146.3367224 3148.1128054 3149.888517  3151.753929  3153.4192912\n",
      " 3154.94231   3156.400778  3157.6251504 3158.8950962 3160.459309\n",
      " 3162.2837914 3164.2635902 3166.4628578 3168.5697654 3170.4324678\n",
      " 3171.9770628 3173.2282774 3174.2920078 3175.590244  3177.2384242\n",
      " 3179.0956462 3181.0267918 3183.2922942 3185.726716  3188.3404342\n",
      " 3191.1713594 3194.0766132 3197.5138248 3200.133866  3201.9194742\n",
      " 3203.9282088 3205.823671  3207.2558542 3208.6488604 3210.2903714\n",
      " 3211.7985498 3213.0368886 3214.3839176 3215.5055668 3216.4411176\n",
      " 3218.0876834 3219.978383  3221.6665876 3223.2586086 3224.5044336\n",
      " 3226.4038042 3228.7974564 3231.0598086 3232.5506578 3232.913374\n",
      " 3232.6661312 3231.7573418 3230.503895  3229.1680542 3227.9981228\n",
      " 3226.8592156 3226.145539  3225.9738116 3226.105829  3226.6065892\n",
      " 3228.0176024 3229.6716436 3231.7606618 3234.1436396 3236.6904462\n",
      " 3239.4555906 3242.2081998 3245.017354  3247.7659514 3250.1607554\n",
      " 3252.5056384 3255.045087  3257.4480676 3259.8080102 3261.442845\n",
      " 3262.1513676 3261.9593524 3261.110127  3260.1854706 3259.2598242\n",
      " 3258.5572198 3258.4673242 3258.888766  3259.3342792 3259.4197734\n",
      " 3258.7246126 3257.6705746 3256.4604228 3255.4628896 3254.7781906\n",
      " 3254.0285278 3253.4565934 3253.3848084 3253.7306748 3254.5949292\n",
      " 3255.8768424 3257.196555  3258.5268498 3260.4597534 3262.5068542\n",
      " 3263.8090386 3264.6960342 3265.6613148 3266.0263686 3266.177049\n",
      " 3266.2302636 3266.259375  3266.2251018 3266.3629322 3267.1025528\n",
      " 3268.5590818 3269.8734728 3270.6944232 3270.7993976 3270.46496\n",
      " 3269.8140954 3269.405807  3269.0296588 3268.613266  3268.356209\n",
      " 3268.152987  3268.3754712 3268.9639552 3269.333342  3269.7746974\n",
      " 3270.2195908 3271.0053178 3272.2117834 3273.2487338 3274.0058592\n",
      " 3274.9299236 3276.043744  3277.5482738 3279.666109  3282.5904884\n",
      " 3285.8577394 3289.345506  3293.4776206 3298.0340262 3302.6172956]\n"
     ]
    }
   ],
   "source": [
    "print(topo.mean(axis=1) )"
   ]
  },
  {
   "cell_type": "markdown",
   "metadata": {},
   "source": [
    "## Plotting, take two\n",
    " \n",
    "It's hard to get a sense of how the topography changes across the\n",
    "landscape from these big tables of numbers. A simpler way to display\n",
    "this information is with line plots.\n",
    "\n",
    "We are again going to use the `matplotlib` package for data\n",
    "visualization. Since we imported the `matplotlib.pyplot` library once\n",
    "already, those tools are available and can be called within Python. As a\n",
    "review, though, we are going to write every step needed to load and plot\n",
    "the data.\n",
    "\n",
    "We use the function `plot` to create two basic line plots of the\n",
    "topography:"
   ]
  },
  {
   "cell_type": "code",
   "execution_count": 166,
   "metadata": {},
   "outputs": [
    {
     "data": {
      "image/png": "[encoded data removed]",
      "text/plain": [
       "<Figure size 432x288 with 1 Axes>"
      ]
     },
     "metadata": {
      "needs_background": "light"
     },
     "output_type": "display_data"
    },
    {
     "data": {
      "image/png": "[encoded data removed]",
      "text/plain": [
       "<Figure size 432x288 with 1 Axes>"
      ]
     },
     "metadata": {
      "needs_background": "light"
     },
     "output_type": "display_data"
    }
   ],
   "source": [
    "import numpy as np\n",
    "import matplotlib.pyplot as plt\n",
    "%matplotlib inline\n",
    "\n",
    "topo = np.loadtxt('../../data/topo.asc', delimiter=',')\n",
    "\n",
    "plt.plot(topo[0,:])\n",
    "plt.title('Topographic profile, northern edge')\n",
    "plt.ylabel('Elevation (m)')\n",
    "plt.xlabel('<-- West    East -->')\n",
    "plt.show()\n",
    "\n",
    "plt.plot(topo[-1,:], 'r--')\n",
    "plt.title('Topographic profile, southern edge')\n",
    "plt.ylabel('Elevation (m)')\n",
    "plt.xlabel('<-- West    East -->')\n",
    "plt.show() "
   ]
  },
  {
   "cell_type": "markdown",
   "metadata": {},
   "source": [
    "![](fig/output_74_0.png)\n",
    "![](fig/output_74_1.png)\n",
    "\n",
    "\n",
    "> ## Scientists dislike typing\n",
    ">\n",
    "> We will always use the syntax `import numpy` to import NumPy. However,\n",
    "> in order to save typing, it is [often\n",
    "> suggested](http://www.scipy.org/getting-started.html#an-example-script\n",
    "> ) to make a shortcut like so: `import numpy as np`. If you ever see\n",
    "> Python code using a NumPy function with `np` (for example,\n",
    "> `np.loadtxt(...)`), it's because they've used this shortcut.\n",
    "\n",
    "To better compare these profiles, we can plot them as separate lines in\n",
    "a single figure using the argument `hold=True`, This will force all\n",
    "subsequent calls to `plt.plot` to use the same axes (until it reaches\n",
    "`plt.show()`). The argument `label=` holds the label that will appear in the legend.\n",
    "\n",
    "<span style='color:red'> Why do we use the int statement in this code block?  </span> "
   ]
  },
  {
   "cell_type": "code",
   "execution_count": 167,
   "metadata": {},
   "outputs": [
    {
     "data": {
      "image/png": "[encoded data removed]",
      "text/plain": [
       "<Figure size 432x288 with 1 Axes>"
      ]
     },
     "metadata": {
      "needs_background": "light"
     },
     "output_type": "display_data"
    }
   ],
   "source": [
    "import numpy as np \n",
    "import matplotlib.pyplot as plt\n",
    "%matplotlib inline\n",
    "\n",
    "topo = np.loadtxt('../../data/topo.asc', delimiter=',')\n",
    "\n",
    "plt.plot(topo[0,:], label='North')\n",
    "\n",
    "plt.plot(topo[-1,:], 'r--', label='South')\n",
    "\n",
    "plt.plot(topo[int(len(topo)/2),:], 'g:', linewidth=3, label='Mid')\n",
    "\n",
    "plt.title('Topographic profiles')\n",
    "plt.ylabel('Elevation (m)')\n",
    "plt.xlabel('<-- West    East -->')\n",
    "plt.legend(loc = 'lower left')\n",
    "\n",
    "plt.show() "
   ]
  },
  {
   "cell_type": "markdown",
   "metadata": {},
   "source": [
    " ## Make your own plots \n",
    "\n",
    " Create three separate plots showing how the maximum (`numpy.max()`),\n",
    " minimum (`numpy.min()`), and mean (`numpy.mean()`) elevation changes\n",
    " with longitude. Label the axes and include a title for each of the\n",
    " plots (Hint: use `axis=0`).\n",
    "\n",
    " Convert the separate plots into a single plot that includes all three\n",
    " statistics (using `hold=True`). Create a legend."
   ]
  },
  {
   "cell_type": "code",
   "execution_count": null,
   "metadata": {},
   "outputs": [],
   "source": []
  },
  {
   "cell_type": "markdown",
   "metadata": {},
   "source": [
    " ## Subplots (take home)\n",
    "\n",
    " We often want to arrange separate plots in layouts with multiple rows\n",
    " and columns. The script below uses subplots to show the elevation\n",
    " profile at the western edge, the mid longitude, and eastern edge of\n",
    " the region. Subplots can be a little weird because they require the\n",
    " axes to be defined before plotting. Type (don't copy-past!) the code\n",
    " below to get a sense of how it works.\n",
    " \n",
    "This script uses a number of new commands. The function `plt.figure()`\n",
    "creates a space into which we will place the three plots. The parameter\n",
    "`figsize` tells Python how big to make this space. Each subplot is\n",
    "placed into the figure using the `subplot` command. The `subplot`\n",
    "command takes 3 parameters: the first denotes the total number of rows\n",
    "of subplots in the figure, the second is the total number of columns of\n",
    "subplots in the figure, and the final parameters identifies the\n",
    "position of the subplot in the grid. The axes of each subplot are\n",
    "called with different variable (axes1, axes2, axes3, axes4). Once a\n",
    "subplot is created, the axes can be labeled using the `set_xlabel()`\n",
    "(or `set_ylabel()`) method. `plt.show()` is called after the entire\n",
    "figure is set up."
   ]
  },
  {
   "cell_type": "code",
   "execution_count": 168,
   "metadata": {},
   "outputs": [
    {
     "data": {
      "image/png": "[encoded data removed]",
      "text/plain": [
       "<Figure size 1152x216 with 3 Axes>"
      ]
     },
     "metadata": {
      "needs_background": "light"
     },
     "output_type": "display_data"
    }
   ],
   "source": [
    "import numpy as np \n",
    "import matplotlib.pyplot as plt\n",
    "%matplotlib inline\n",
    "\n",
    "topo = np.loadtxt('../../data/topo.asc', delimiter=',')\n",
    "\n",
    "fig = plt.figure(figsize=(16.0, 3.0))\n",
    "\n",
    "axes1 = fig.add_subplot(1,3,1)\n",
    "axes2 = fig.add_subplot(1,3,2)\n",
    "axes3 = fig.add_subplot(1,3,3)\n",
    "\n",
    "axes1.plot(topo[:,0])\n",
    "axes1.set_ylim([2500,3900])\n",
    "axes1.set_ylabel('Elevation (m)')\n",
    "axes1.set_xlabel('<-- N   S --')\n",
    "axes1.set_title('West')\n",
    "\n",
    "axes2.plot(topo[:,int(len(topo)/2)])\n",
    "axes2.set_ylim([2500,3900])\n",
    "axes2.set_xlabel('<-- N   S --')\n",
    "axes2.set_title('Mid')\n",
    "\n",
    "axes3.plot(topo[:,-1])\n",
    "axes3.set_ylim([2500,3900])\n",
    "axes3.set_xlabel('<--N   S --')\n",
    "axes3.set_title('East')\n",
    "\n",
    "plt.show(fig) "
   ]
  },
  {
   "cell_type": "markdown",
   "metadata": {},
   "source": [
    "## Subplots of DEMs (Takehome) \n",
    " \n",
    "Make a 2x2 grid of subplots that use the function `imshow` to display\n",
    "each quarter of the dataset (ie. split down the middle in both x and y).\n",
    "\n",
    "* Don't label axes or add a colorbar. It can be tricky to do this with subplots.\n",
    "* To set the range of colors for one subplot, include the arguments `vmin` and `vmax`\n",
    "in `imshow` like this:\n"
   ]
  },
  {
   "cell_type": "code",
   "execution_count": 169,
   "metadata": {},
   "outputs": [
    {
     "data": {
      "text/plain": [
       "<matplotlib.image.AxesImage at 0x7fc6a9f13f70>"
      ]
     },
     "execution_count": 169,
     "metadata": {},
     "output_type": "execute_result"
    },
    {
     "data": {
      "image/png": "[encoded data removed]",
      "text/plain": [
       "<Figure size 432x288 with 1 Axes>"
      ]
     },
     "metadata": {
      "needs_background": "light"
     },
     "output_type": "display_data"
    }
   ],
   "source": [
    "vmin = topo.min()\n",
    "vmax = topo.max()\n",
    "plt.imshow(topo, vmin=vmin, vmax=vmax) "
   ]
  }
 ],
 "metadata": {
  "kernelspec": {
   "display_name": "Python 3",
   "language": "python",
   "name": "python3"
  },
  "language_info": {
   "codemirror_mode": {
    "name": "ipython",
    "version": 3
   },
   "file_extension": ".py",
   "mimetype": "text/x-python",
   "name": "python",
   "nbconvert_exporter": "python",
   "pygments_lexer": "ipython3",
   "version": "3.6.10"
  }
 },
 "nbformat": 4,
 "nbformat_minor": 4
}
